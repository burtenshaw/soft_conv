{
 "cells": [
  {
   "cell_type": "code",
   "execution_count": null,
   "metadata": {
    "colab": {},
    "colab_type": "code",
    "id": "G2MZtLUHs2-b"
   },
   "outputs": [],
   "source": []
  },
  {
   "cell_type": "code",
   "execution_count": null,
   "metadata": {
    "colab": {},
    "colab_type": "code",
    "id": "_lIX8tPFs2-s"
   },
   "outputs": [],
   "source": [
    "%load_ext autoreload\n",
    "%autoreload 2"
   ]
  },
  {
   "cell_type": "code",
   "execution_count": null,
   "metadata": {
    "colab": {
     "base_uri": "https://localhost:8080/",
     "height": 124
    },
    "colab_type": "code",
    "executionInfo": {
     "elapsed": 23732,
     "status": "ok",
     "timestamp": 1574340368096,
     "user": {
      "displayName": "Ben Burtenshaw",
      "photoUrl": "https://lh3.googleusercontent.com/a-/AAuE7mDrpB2vRWeIxjZaOv3PxXp-pFT41AaeRpXPAfJgfg=s64",
      "userId": "17018977172112637220"
     },
     "user_tz": -60
    },
    "id": "UlHXiI-qtPql",
    "outputId": "4b79541b-89cb-439a-adf1-df7231be1a55"
   },
   "outputs": [
    {
     "name": "stdout",
     "output_type": "stream",
     "text": [
      "Go to this URL in a browser: https://accounts.google.com/o/oauth2/auth?client_id=947318989803-6bn6qk8qdgf4n4g3pfee6491hc0brc4i.apps.googleusercontent.com&redirect_uri=urn%3aietf%3awg%3aoauth%3a2.0%3aoob&response_type=code&scope=email%20https%3a%2f%2fwww.googleapis.com%2fauth%2fdocs.test%20https%3a%2f%2fwww.googleapis.com%2fauth%2fdrive%20https%3a%2f%2fwww.googleapis.com%2fauth%2fdrive.photos.readonly%20https%3a%2f%2fwww.googleapis.com%2fauth%2fpeopleapi.readonly\n",
      "\n",
      "Enter your authorization code:\n",
      "··········\n",
      "Mounted at /content/drive\n"
     ]
    }
   ],
   "source": [
    "from google.colab import drive\n",
    "drive.mount('/content/drive')"
   ]
  },
  {
   "cell_type": "code",
   "execution_count": null,
   "metadata": {
    "colab": {},
    "colab_type": "code",
    "id": "HKRmFI07s2-3"
   },
   "outputs": [],
   "source": [
    "import pandas as pd"
   ]
  },
  {
   "cell_type": "code",
   "execution_count": null,
   "metadata": {
    "colab": {},
    "colab_type": "code",
    "id": "AdyvnPT-s2--"
   },
   "outputs": [],
   "source": [
    "input_csv = '/content/drive/My Drive/data/teen/wa_line_df.csv'\n",
    "output_dir = '/content/drive/My Drive/data/teen/output'\n",
    "line = pd.read_csv(input_csv, index_col=0)"
   ]
  },
  {
   "cell_type": "code",
   "execution_count": null,
   "metadata": {
    "colab": {},
    "colab_type": "code",
    "id": "pTxox-y_s2_Q"
   },
   "outputs": [],
   "source": [
    "# 100 random examples\n",
    "sample = line.sample(n = 100)"
   ]
  },
  {
   "cell_type": "code",
   "execution_count": null,
   "metadata": {
    "colab": {},
    "colab_type": "code",
    "id": "OA3TTON-uUSV"
   },
   "outputs": [],
   "source": [
    "line = sample"
   ]
  },
  {
   "cell_type": "code",
   "execution_count": null,
   "metadata": {
    "colab": {
     "base_uri": "https://localhost:8080/",
     "height": 86
    },
    "colab_type": "code",
    "executionInfo": {
     "elapsed": 530,
     "status": "ok",
     "timestamp": 1574335771286,
     "user": {
      "displayName": "Ben Burtenshaw",
      "photoUrl": "https://lh3.googleusercontent.com/a-/AAuE7mDrpB2vRWeIxjZaOv3PxXp-pFT41AaeRpXPAfJgfg=s64",
      "userId": "17018977172112637220"
     },
     "user_tz": -60
    },
    "id": "VKexwhw9s2_f",
    "outputId": "c847a578-a26b-45d4-e7cf-954e053f20b1"
   },
   "outputs": [
    {
     "name": "stdout",
     "output_type": "stream",
     "text": [
      "Index(['Unnamed: 0', 'conv_n', 'line_n', 'raw_date', 'text', 'user', 'utc',\n",
      "       'source', 'line_idx.1', 'conv_idx', 'school', 'submitter',\n",
      "       'clean_submitter'],\n",
      "      dtype='object')\n"
     ]
    }
   ],
   "source": [
    "print(line.columns)"
   ]
  },
  {
   "cell_type": "code",
   "execution_count": null,
   "metadata": {
    "colab": {},
    "colab_type": "code",
    "id": "ZXN5aSE5s2_p"
   },
   "outputs": [],
   "source": [
    "line = line[['conv_idx','line_n', 'raw_date', 'user', 'text', 'clean_submitter']]"
   ]
  },
  {
   "cell_type": "code",
   "execution_count": null,
   "metadata": {
    "colab": {
     "base_uri": "https://localhost:8080/",
     "height": 176
    },
    "colab_type": "code",
    "executionInfo": {
     "elapsed": 473,
     "status": "ok",
     "timestamp": 1574335775582,
     "user": {
      "displayName": "Ben Burtenshaw",
      "photoUrl": "https://lh3.googleusercontent.com/a-/AAuE7mDrpB2vRWeIxjZaOv3PxXp-pFT41AaeRpXPAfJgfg=s64",
      "userId": "17018977172112637220"
     },
     "user_tz": -60
    },
    "id": "KQVvUE-5s2_2",
    "outputId": "03454373-eb21-4f40-a595-dddafa7b8bd2"
   },
   "outputs": [
    {
     "name": "stderr",
     "output_type": "stream",
     "text": [
      "/usr/local/lib/python3.6/dist-packages/ipykernel_launcher.py:2: FutureWarning: Sorting because non-concatenation axis is not aligned. A future version\n",
      "of pandas will change to not sort by default.\n",
      "\n",
      "To accept the future behavior, pass 'sort=False'.\n",
      "\n",
      "To retain the current behavior and silence the warning, pass 'sort=True'.\n",
      "\n",
      "  \n"
     ]
    }
   ],
   "source": [
    "annotation_columns = ['toxic', 'severe_toxic', 'obscene', 'threat', 'insult', 'identity_hate']\n",
    "line = pd.concat([line, pd.DataFrame(columns=annotation_columns)], axis=1, )"
   ]
  },
  {
   "cell_type": "code",
   "execution_count": null,
   "metadata": {
    "colab": {},
    "colab_type": "code",
    "id": "vQ-uL1oxs3AD"
   },
   "outputs": [],
   "source": [
    "c = line.groupby(['conv_idx']).apply(lambda x : x.to_csv('%s/%s.csv' % (output_dir, x.conv_idx[0])))"
   ]
  },
  {
   "cell_type": "code",
   "execution_count": null,
   "metadata": {
    "colab": {},
    "colab_type": "code",
    "id": "Fz65Vp3Zs3AK"
   },
   "outputs": [],
   "source": [
    "_c = line.groupby(['conv_idx'])"
   ]
  },
  {
   "cell_type": "code",
   "execution_count": null,
   "metadata": {
    "colab": {
     "base_uri": "https://localhost:8080/",
     "height": 34
    },
    "colab_type": "code",
    "executionInfo": {
     "elapsed": 516,
     "status": "ok",
     "timestamp": 1574340922583,
     "user": {
      "displayName": "Ben Burtenshaw",
      "photoUrl": "https://lh3.googleusercontent.com/a-/AAuE7mDrpB2vRWeIxjZaOv3PxXp-pFT41AaeRpXPAfJgfg=s64",
      "userId": "17018977172112637220"
     },
     "user_tz": -60
    },
    "id": "-xt_9UkMBzYQ",
    "outputId": "04336db1-4520-47d9-e5f9-435bfe344ff0"
   },
   "outputs": [
    {
     "name": "stdout",
     "output_type": "stream",
     "text": [
      "<class 'pandas.core.frame.DataFrame'>\n"
     ]
    }
   ],
   "source": [
    "for _ in _c:\n",
    "  print(type(_[1]))\n",
    "  break"
   ]
  },
  {
   "cell_type": "code",
   "execution_count": null,
   "metadata": {
    "colab": {},
    "colab_type": "code",
    "id": "z6U2kBYF_wXQ"
   },
   "outputs": [],
   "source": [
    "line['text_len'] = line.text.apply(len)"
   ]
  },
  {
   "cell_type": "code",
   "execution_count": null,
   "metadata": {
    "colab": {
     "base_uri": "https://localhost:8080/",
     "height": 34
    },
    "colab_type": "code",
    "executionInfo": {
     "elapsed": 350,
     "status": "ok",
     "timestamp": 1574340492919,
     "user": {
      "displayName": "Ben Burtenshaw",
      "photoUrl": "https://lh3.googleusercontent.com/a-/AAuE7mDrpB2vRWeIxjZaOv3PxXp-pFT41AaeRpXPAfJgfg=s64",
      "userId": "17018977172112637220"
     },
     "user_tz": -60
    },
    "id": "NeAnQ_qHAGQm",
    "outputId": "23c501f3-5569-43c6-c9ad-483d406ace39"
   },
   "outputs": [
    {
     "data": {
      "text/plain": [
       "<function __main__.<lambda>>"
      ]
     },
     "execution_count": 8,
     "metadata": {
      "tags": []
     },
     "output_type": "execute_result"
    }
   ],
   "source": [
    "lambda x: x*2"
   ]
  },
  {
   "cell_type": "code",
   "execution_count": null,
   "metadata": {
    "colab": {},
    "colab_type": "code",
    "id": "VI5AXXGGAXwm"
   },
   "outputs": [],
   "source": [
    "def a(x):\n",
    "  return x"
   ]
  },
  {
   "cell_type": "code",
   "execution_count": null,
   "metadata": {
    "colab": {
     "base_uri": "https://localhost:8080/",
     "height": 34
    },
    "colab_type": "code",
    "executionInfo": {
     "elapsed": 745,
     "status": "ok",
     "timestamp": 1574340515489,
     "user": {
      "displayName": "Ben Burtenshaw",
      "photoUrl": "https://lh3.googleusercontent.com/a-/AAuE7mDrpB2vRWeIxjZaOv3PxXp-pFT41AaeRpXPAfJgfg=s64",
      "userId": "17018977172112637220"
     },
     "user_tz": -60
    },
    "id": "-ycmN26vAcRQ",
    "outputId": "32f7c788-3b4f-4f2f-9956-6ae31ad44ce8"
   },
   "outputs": [
    {
     "data": {
      "text/plain": [
       "<function __main__.a>"
      ]
     },
     "execution_count": 10,
     "metadata": {
      "tags": []
     },
     "output_type": "execute_result"
    }
   ],
   "source": [
    "a"
   ]
  },
  {
   "cell_type": "code",
   "execution_count": null,
   "metadata": {
    "colab": {},
    "colab_type": "code",
    "id": "e5qoLrgBGx3V"
   },
   "outputs": [],
   "source": []
  },
  {
   "cell_type": "code",
   "execution_count": null,
   "metadata": {
    "colab": {},
    "colab_type": "code",
    "id": "Rm54MzHvHlr3"
   },
   "outputs": [],
   "source": []
  }
 ],
 "metadata": {
  "colab": {
   "name": "annotation",
   "provenance": [
    {
     "file_id": "1FbKYB3QE0vEXzbtu1XzeNieWac-dKvGx",
     "timestamp": 1574338016524
    }
   ]
  },
  "kernelspec": {
   "display_name": "Python 3",
   "language": "python",
   "name": "python3"
  },
  "language_info": {
   "codemirror_mode": {
    "name": "ipython",
    "version": 3
   },
   "file_extension": ".py",
   "mimetype": "text/x-python",
   "name": "python",
   "nbconvert_exporter": "python",
   "pygments_lexer": "ipython3",
   "version": "3.7.4"
  }
 },
 "nbformat": 4,
 "nbformat_minor": 4
}
