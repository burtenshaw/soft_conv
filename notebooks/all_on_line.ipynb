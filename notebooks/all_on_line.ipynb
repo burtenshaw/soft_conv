{
 "cells": [
  {
   "cell_type": "code",
   "execution_count": null,
   "metadata": {},
   "outputs": [],
   "source": [
    "import pandas as pd\n",
    "from ast import literal_eval"
   ]
  },
  {
   "cell_type": "code",
   "execution_count": null,
   "metadata": {},
   "outputs": [],
   "source": [
    "DATA_DIR = '/home/burtenshaw/data/teen/beta/whatsapp/_6/'\n",
    "ALPHA_DIR = '/home/burtenshaw/data/teen/alpha/redo/'\n",
    "MATCHES_DIR = '/home/burtenshaw/data/teen/beta/combined/'"
   ]
  },
  {
   "cell_type": "code",
   "execution_count": null,
   "metadata": {},
   "outputs": [],
   "source": [
    "# Load split data frames\n",
    "\n",
    "user = pd.read_csv(DATA_DIR + 'wa_user_df.csv', index_col=0)\n",
    "line = pd.read_csv(DATA_DIR + 'wa_line_df.csv', index_col=0)\n",
    "conv = pd.read_csv(DATA_DIR + 'wa_conv_df.csv', index_col=0)\n",
    "\n",
    "a_user = pd.read_csv(ALPHA_DIR + 'alpha_users.csv', index_col=0)\n",
    "a_line = pd.read_csv(ALPHA_DIR + 'alpha_lines.csv', index_col=0)\n",
    "\n",
    "# Encorporate validated matches\n",
    "key = pd.read_csv(MATCHES_DIR + 'combined_matches.csv', index_col=0)"
   ]
  },
  {
   "cell_type": "code",
   "execution_count": null,
   "metadata": {},
   "outputs": [],
   "source": [
    "# fields from conv\n",
    "_c = conv[['line_idxs','users']]\n",
    "_c['line_idxs'] = _c.line_idxs.apply(literal_eval)\n",
    "_c = _c.explode('line_idxs')\n",
    "_c['conv_idx'] = _c.index\n",
    "_c.index = _c.line_idxs"
   ]
  },
  {
   "cell_type": "code",
   "execution_count": null,
   "metadata": {},
   "outputs": [],
   "source": [
    "# fields from user\n",
    "# LOAD ALPHA DATA - Where Possible\\\n",
    "_u = user[['line_idxs','AS_ALPHA_chatter_id']]\n",
    "_u['chatter_id'] = key.matched_chatter_id"
   ]
  },
  {
   "cell_type": "code",
   "execution_count": null,
   "metadata": {},
   "outputs": [],
   "source": [
    "_u = pd.merge(left=_u,right=a_user,left_on='chatter_id', right_index=True, how='left')"
   ]
  },
  {
   "cell_type": "code",
   "execution_count": null,
   "metadata": {},
   "outputs": [],
   "source": [
    "_u['line_idxs'] = _u.line_idxs.apply(literal_eval)\n",
    "_u = _u.explode('line_idxs')\n",
    "_u['user_idx'] = _u.index\n",
    "_u.index = _u.line_idxs"
   ]
  },
  {
   "cell_type": "code",
   "execution_count": null,
   "metadata": {},
   "outputs": [],
   "source": [
    "_s = pd.DataFrame(list(line.source.apply(lambda x: x.split('/')[-1].split('_')[:4])),columns=['year','medium','conv_sex','conv_size'])"
   ]
  },
  {
   "cell_type": "code",
   "execution_count": null,
   "metadata": {},
   "outputs": [],
   "source": [
    "all_on_line = pd.concat([_u,_c,_s], axis=1)\n",
    "all_on_line = pd.merge(left= all_on_line, right=line, left_index=True, right_index=True)"
   ]
  },
  {
   "cell_type": "code",
   "execution_count": null,
   "metadata": {},
   "outputs": [],
   "source": [
    "all_on_line.columns"
   ]
  },
  {
   "cell_type": "code",
   "execution_count": null,
   "metadata": {},
   "outputs": [],
   "source": [
    "all_on_line.drop(columns=['line_idxs','line_n'], inplace=True)"
   ]
  },
  {
   "cell_type": "code",
   "execution_count": null,
   "metadata": {},
   "outputs": [],
   "source": [
    "all_on_line.to_csv(DATA_DIR + 'all_on_line.csv')"
   ]
  }
 ],
 "metadata": {
  "colab": {
   "name": "all_on_line",
   "provenance": []
  },
  "kernelspec": {
   "display_name": "Python 3",
   "language": "python",
   "name": "python3"
  },
  "language_info": {
   "codemirror_mode": {
    "name": "ipython",
    "version": 3
   },
   "file_extension": ".py",
   "mimetype": "text/x-python",
   "name": "python",
   "nbconvert_exporter": "python",
   "pygments_lexer": "ipython3",
   "version": "3.7.4"
  }
 },
 "nbformat": 4,
 "nbformat_minor": 4
}